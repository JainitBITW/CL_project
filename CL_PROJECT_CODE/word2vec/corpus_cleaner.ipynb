{
 "cells": [
  {
   "cell_type": "markdown",
   "metadata": {},
   "source": [
    "# importing the libraries "
   ]
  },
  {
   "cell_type": "code",
   "execution_count": 1,
   "metadata": {},
   "outputs": [],
   "source": [
    "import os \n",
    "import re"
   ]
  },
  {
   "cell_type": "code",
   "execution_count": 12,
   "metadata": {},
   "outputs": [],
   "source": [
    "input_dir='/home/turning/Desktop/CL_project/CL_PROJECT_CODE/Kerasmodel/aclImdb/train/pos'\n",
    "all_files_list = os.listdir(input_dir)\n",
    "for i in range(len(all_files_list)):\n",
    "    all_files_list[i]='/home/turning/Desktop/CL_project/CL_PROJECT_CODE/Kerasmodel/aclImdb/train/pos/' +all_files_list[i]\n"
   ]
  },
  {
   "cell_type": "code",
   "execution_count": 76,
   "metadata": {},
   "outputs": [],
   "source": [
    "def clean_file(filename):\n",
    "    f= open(filename, 'r')\n",
    "    file_data=f.read()\n",
    "    f.close()\n",
    "    cleaned_data= re.sub('[A-Za-z]', \"\" , file_data)\n",
    "    cleaned_data = re.sub('[0-9]', \"\" , cleaned_data)\n",
    "    # cleaned_data = re.sub('.', \"\" , cleaned_data)\n",
    "    \n",
    "    cleaned_data =cleaned_data.replace(\"...\",\".\")\n",
    "    cleaned_data = re.sub(' +', \" \" , cleaned_data)\n",
    "    cleaned_data = re.sub('\\t', \" \" , cleaned_data)\n",
    "    disallowed_characters = \"_\\,“-\\\"।–()@#$%&*/‘\\'’|\\:\\”\"\n",
    "    for character in disallowed_characters:\n",
    "\t    cleaned_data = cleaned_data.replace(character, \"\")\n",
    "    cleaned_data = re.sub(' +', \" \" , cleaned_data)\n",
    "    cleaned_data = re.sub('\\t', \" \" , cleaned_data)\n",
    "    cleaned_data = re.sub(\"\\!\" ,'\\n',cleaned_data)\n",
    "    cleaned_data = re.sub(\"\\.\" ,'.\\n',cleaned_data)\n",
    "    cleaned_data = re.sub(\"\\?\" ,'\\n',cleaned_data)\n",
    "    # cleaned_data = re.sub(\"\\n\" ,'\\n',cleaned_data)\n",
    "    cleaned_data = cleaned_data.split('\\n')\n",
    "    new_cleaned_data =[]\n",
    "    for data in cleaned_data:\n",
    "        if data is not None and len(data)>=5:\n",
    "            new_cleaned_data.append(data)   \n",
    "    \n",
    "    data_in_string= \"\"\n",
    "    for data in new_cleaned_data:\n",
    "        data_in_string+=data\n",
    "        data_in_string+='\\n'\n",
    "    return data_in_string\n",
    "    \n",
    "    \n",
    "def clean_2(file_path):\n",
    "    f= open(file_path, 'r')\n",
    "    data= f.read()\n",
    "    data = data.split('\\n')\n",
    "    for i in range(len(data)):\n",
    "        data[i] = data[i].strip()\n",
    "        data[i]=re.sub('\\[\\]',\"\",data[i])\n",
    "        data[i]=data[i].split(' ')\n",
    "        \n",
    "           \n",
    "        \n",
    "    data_in_string= \"\"\n",
    "    for data_list in data:\n",
    "        for data_word in data_list:\n",
    "            if data_word is not None:\n",
    "                data_in_string+=data_word\n",
    "            \n",
    "        data_in_string+='\\n'\n",
    "    return data_in_string\n",
    "        \n",
    "    \n",
    "\n",
    "\n",
    "\n",
    "for file_path in all_files_list:\n",
    "    cleaned_data = clean_2(file_path)\n",
    "    \n",
    "    f= open(file_path , 'w')\n",
    "    f.write(str(cleaned_data))\n",
    "    f.close()\n",
    "    \n",
    "    "
   ]
  }
 ],
 "metadata": {
  "kernelspec": {
   "display_name": "Python 3.10.6 64-bit",
   "language": "python",
   "name": "python3"
  },
  "language_info": {
   "codemirror_mode": {
    "name": "ipython",
    "version": 3
   },
   "file_extension": ".py",
   "mimetype": "text/x-python",
   "name": "python",
   "nbconvert_exporter": "python",
   "pygments_lexer": "ipython3",
   "version": "3.10.6"
  },
  "orig_nbformat": 4,
  "vscode": {
   "interpreter": {
    "hash": "916dbcbb3f70747c44a77c7bcd40155683ae19c65e1c03b4aa3499c5328201f1"
   }
  }
 },
 "nbformat": 4,
 "nbformat_minor": 2
}
