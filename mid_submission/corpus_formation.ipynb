{
 "cells": [
  {
   "cell_type": "code",
   "execution_count": null,
   "metadata": {
    "id": "yhhvdl6SX-6A"
   },
   "outputs": [
    {
     "ename": "",
     "evalue": "",
     "output_type": "error",
     "traceback": [
      "\u001b[1;31mRunning cells with 'Python 3.10.4 64-bit' requires ipykernel package.\n",
      "Run the following command to install 'ipykernel' into the Python environment. \n",
      "Command: '/bin/python3 -m pip install ipykernel -U --user --force-reinstall'"
     ]
    }
   ],
   "source": []
  },
  {
   "cell_type": "code",
   "execution_count": 1,
   "metadata": {
    "colab": {
     "base_uri": "https://localhost:8080/",
     "height": 1000
    },
    "id": "1eeEld5NOA5E",
    "outputId": "11f32160-b81c-42f5-b8e0-9a6800be7e0a"
   },
   "outputs": [
    {
     "name": "stdout",
     "output_type": "stream",
     "text": [
      "Collecting inltk\n",
      "  Using cached inltk-0.9-py3-none-any.whl (13 kB)\n",
      "Requirement already satisfied: Pillow in /home/turning/anaconda3/lib/python3.8/site-packages (from inltk) (8.2.0)\n",
      "Requirement already satisfied: beautifulsoup4 in /home/turning/anaconda3/lib/python3.8/site-packages (from inltk) (4.9.3)\n",
      "Requirement already satisfied: scipy in /home/turning/anaconda3/lib/python3.8/site-packages (from inltk) (1.6.2)\n",
      "Requirement already satisfied: requests in /home/turning/anaconda3/lib/python3.8/site-packages (from inltk) (2.25.1)\n",
      "Requirement already satisfied: bottleneck in /home/turning/anaconda3/lib/python3.8/site-packages (from inltk) (1.3.2)\n",
      "Collecting nvidia-ml-py3\n",
      "  Using cached nvidia-ml-py3-7.352.0.tar.gz (19 kB)\n",
      "Requirement already satisfied: packaging in /home/turning/anaconda3/lib/python3.8/site-packages (from inltk) (20.9)\n",
      "Requirement already satisfied: pyyaml in /home/turning/anaconda3/lib/python3.8/site-packages (from inltk) (5.4.1)\n",
      "Requirement already satisfied: matplotlib in /home/turning/anaconda3/lib/python3.8/site-packages (from inltk) (3.3.4)\n",
      "Collecting fastai==1.0.57\n",
      "  Using cached fastai-1.0.57-py3-none-any.whl (233 kB)\n",
      "Requirement already satisfied: numexpr in /home/turning/anaconda3/lib/python3.8/site-packages (from inltk) (2.7.3)\n",
      "Collecting aiohttp>=3.5.4\n",
      "  Using cached aiohttp-3.8.3-cp38-cp38-manylinux_2_17_x86_64.manylinux2014_x86_64.whl (1.0 MB)\n",
      "Collecting typing\n",
      "  Using cached typing-3.7.4.3.tar.gz (78 kB)\n",
      "Collecting async-timeout>=3.0.1\n",
      "  Using cached async_timeout-4.0.2-py3-none-any.whl (5.8 kB)\n",
      "Collecting spacy>=2.0.18\n",
      "  Using cached spacy-3.4.3-cp38-cp38-manylinux_2_17_x86_64.manylinux2014_x86_64.whl (6.6 MB)\n",
      "Collecting fastprogress>=0.1.19\n",
      "  Using cached fastprogress-1.0.3-py3-none-any.whl (12 kB)\n",
      "Requirement already satisfied: pandas in /home/turning/anaconda3/lib/python3.8/site-packages (from inltk) (1.2.4)\n",
      "Requirement already satisfied: numpy>=1.15 in /home/turning/anaconda3/lib/python3.8/site-packages (from inltk) (1.20.1)\n",
      "Collecting sentencepiece\n",
      "  Using cached sentencepiece-0.1.97-cp38-cp38-manylinux_2_17_x86_64.manylinux2014_x86_64.whl (1.3 MB)\n",
      "Requirement already satisfied: torch>=1.0.0 in /home/turning/anaconda3/lib/python3.8/site-packages (from fastai==1.0.57->inltk) (1.13.0)\n",
      "Collecting torchvision\n",
      "  Using cached torchvision-0.14.0-cp38-cp38-manylinux1_x86_64.whl (24.3 MB)\n",
      "Collecting aiosignal>=1.1.2\n",
      "  Using cached aiosignal-1.3.1-py3-none-any.whl (7.6 kB)\n",
      "Requirement already satisfied: attrs>=17.3.0 in /home/turning/anaconda3/lib/python3.8/site-packages (from aiohttp>=3.5.4->inltk) (20.3.0)\n"
     ]
    }
   ],
   "source": [
    "!pip3 install inltk\n",
    "!pip install stanza\n",
    "import inltk\n",
    "from inltk.inltk import tokenize\n",
    "import nltk\n",
    "nltk.download('punkt')\n",
    "from inltk.inltk import get_similar_sentences\n",
    "from nltk.tag import tnt\n",
    "from nltk.corpus import indian\n",
    "import nltk\n",
    "nltk.download('indian')\n",
    "!pip install indic-transliteration\n",
    "from indic_transliteration import sanscript\n",
    "from indic_transliteration.sanscript import transliterate\n",
    "from inltk.inltk import setup\n",
    "setup('hi')\n"
   ]
  },
  {
   "cell_type": "markdown",
   "metadata": {
    "id": "gvv-1pprYDa9"
   },
   "source": [
    "above code is downloading required libraries"
   ]
  },
  {
   "cell_type": "code",
   "execution_count": null,
   "metadata": {
    "id": "wVitarONYCBo"
   },
   "outputs": [
    {
     "ename": "",
     "evalue": "",
     "output_type": "error",
     "traceback": [
      "\u001b[1;31mRunning cells with 'Python 3.10.4 64-bit' requires ipykernel package.\n",
      "Run the following command to install 'ipykernel' into the Python environment. \n",
      "Command: '/bin/python3 -m pip install ipykernel -U --user --force-reinstall'"
     ]
    }
   ],
   "source": []
  },
  {
   "cell_type": "code",
   "execution_count": 1,
   "metadata": {
    "colab": {
     "base_uri": "https://localhost:8080/",
     "height": 1000
    },
    "id": "Tsb75dwFLU19",
    "outputId": "1e224a1d-d18f-45fb-c3ed-2a5029d41900"
   },
   "outputs": [
    {
     "ename": "ModuleNotFoundError",
     "evalue": "No module named 'inltk'",
     "output_type": "error",
     "traceback": [
      "\u001b[0;31m---------------------------------------------------------------------------\u001b[0m",
      "\u001b[0;31mModuleNotFoundError\u001b[0m                       Traceback (most recent call last)",
      "\u001b[0;32m/tmp/ipykernel_112444/335200224.py\u001b[0m in \u001b[0;36m<module>\u001b[0;34m\u001b[0m\n\u001b[1;32m      3\u001b[0m \u001b[0;32mfrom\u001b[0m \u001b[0mbs4\u001b[0m \u001b[0;32mimport\u001b[0m \u001b[0mBeautifulSoup\u001b[0m\u001b[0;34m\u001b[0m\u001b[0;34m\u001b[0m\u001b[0m\n\u001b[1;32m      4\u001b[0m \u001b[0;32mfrom\u001b[0m \u001b[0mpprint\u001b[0m \u001b[0;32mimport\u001b[0m \u001b[0mpprint\u001b[0m\u001b[0;34m\u001b[0m\u001b[0;34m\u001b[0m\u001b[0m\n\u001b[0;32m----> 5\u001b[0;31m \u001b[0;32mfrom\u001b[0m \u001b[0minltk\u001b[0m\u001b[0;34m.\u001b[0m\u001b[0minltk\u001b[0m \u001b[0;32mimport\u001b[0m \u001b[0mtokenize\u001b[0m\u001b[0;34m\u001b[0m\u001b[0;34m\u001b[0m\u001b[0m\n\u001b[0m\u001b[1;32m      6\u001b[0m \u001b[0murl\u001b[0m \u001b[0;34m=\u001b[0m \u001b[0;34m'https://www.abplive.com/news/india/himachal-pradesh-assembly-election-2022-schedule-date-announcement-by-eci-voting-will-be-on-12-november-2237732'\u001b[0m\u001b[0;34m\u001b[0m\u001b[0;34m\u001b[0m\u001b[0m\n\u001b[1;32m      7\u001b[0m \u001b[0mreq\u001b[0m \u001b[0;34m=\u001b[0m \u001b[0mrequests\u001b[0m\u001b[0;34m.\u001b[0m\u001b[0mget\u001b[0m\u001b[0;34m(\u001b[0m\u001b[0murl\u001b[0m\u001b[0;34m)\u001b[0m\u001b[0;34m\u001b[0m\u001b[0;34m\u001b[0m\u001b[0m\n",
      "\u001b[0;31mModuleNotFoundError\u001b[0m: No module named 'inltk'"
     ]
    }
   ],
   "source": [
    "all_sent=[]\n",
    "import requests\n",
    "from bs4 import BeautifulSoup\n",
    "from pprint import pprint\n",
    "from inltk.inltk import tokenize \n",
    "url = 'https://www.abplive.com/news/india/himachal-pradesh-assembly-election-2022-schedule-date-announcement-by-eci-voting-will-be-on-12-november-2237732'\n",
    "req = requests.get(url)\n",
    "html_content = req.content\n",
    "soup = BeautifulSoup(html_content, 'html5lib')\n",
    "news_corpuss = soup.find_all('a')\n",
    "links = []\n",
    "for i in news_corpuss:\n",
    "  link=i.get('href')\n",
    "  if(link is not None):\n",
    "    if link.startswith('https://www.ab'):\n",
    "      links.append(link)\n",
    "temp=len(links) \n",
    "corpus = \"\"\n",
    "flag=0\n",
    "k=0\n",
    "for i in range(len(links)):\n",
    "  \n",
    "\n",
    "  url = links[i]\n",
    "  req = requests.get(url)\n",
    "\n",
    "  html_content = req.content\n",
    "  soup = BeautifulSoup(html_content, 'html5lib')\n",
    "  news_corpus = soup.find_all('p')\n",
    "  \n",
    "\n",
    "  for j in news_corpus:\n",
    "    \n",
    "    text=j.text\n",
    "    corpus=corpus+text\n",
    "    \n",
    "    for z in text:\n",
    "      if z==\"।\" or z==\"|\" or z==\".\":\n",
    "        k=k+1 \n",
    "    \n",
    "      if(k)>100:\n",
    "        flag=1;\n",
    "        break\n",
    "    \n",
    "    \n",
    "    \n",
    "  if(flag==1):\n",
    "    break\n",
    "\n",
    "\n",
    "!pip3 install inltk\n",
    "!pip install stanza\n",
    "import inltk\n",
    "from inltk.inltk import tokenize\n",
    "import nltk\n",
    "nltk.download('punkt')\n",
    "\n",
    "from inltk.inltk import get_similar_sentences\n",
    "\n",
    "from nltk.tag import tnt\n",
    "from nltk.corpus import indian\n",
    "import nltk\n",
    "nltk.download('indian')\n",
    "!pip install indic-transliteration\n",
    "from indic_transliteration import sanscript\n",
    "from indic_transliteration.sanscript import transliterate\n",
    "from inltk.inltk import setup\n",
    "setup('hi')\n",
    "  \n",
    "   \n",
    "  \n",
    "  \n",
    "  \n",
    "  \n",
    "  \n",
    "all_sent=corpus.split(\"।\" or \"|\")  \n",
    "\n",
    "\n"
   ]
  },
  {
   "cell_type": "markdown",
   "metadata": {
    "id": "AET_2qYjYMwh"
   },
   "source": [
    "the above code is prepairing the curpus"
   ]
  },
  {
   "cell_type": "code",
   "execution_count": null,
   "metadata": {
    "id": "FLwcbIFCYUCf"
   },
   "outputs": [
    {
     "ename": "",
     "evalue": "",
     "output_type": "error",
     "traceback": [
      "\u001b[1;31mRunning cells with 'Python 3.10.4 64-bit' requires ipykernel package.\n",
      "Run the following command to install 'ipykernel' into the Python environment. \n",
      "Command: '/bin/python3 -m pip install ipykernel -U --user --force-reinstall'"
     ]
    }
   ],
   "source": []
  },
  {
   "cell_type": "code",
   "execution_count": null,
   "metadata": {
    "colab": {
     "base_uri": "https://localhost:8080/"
    },
    "id": "Wj6Skva7g-Jy",
    "outputId": "3c836e44-1c37-42b1-cfda-4a41c299f99a"
   },
   "outputs": [
    {
     "ename": "",
     "evalue": "",
     "output_type": "error",
     "traceback": [
      "\u001b[1;31mRunning cells with 'Python 3.10.4 64-bit' requires ipykernel package.\n",
      "Run the following command to install 'ipykernel' into the Python environment. \n",
      "Command: '/bin/python3 -m pip install ipykernel -U --user --force-reinstall'"
     ]
    }
   ],
   "source": [
    "# !pip3 install inltk\n",
    "# import inltk\n",
    "# # from inltk.inltk import tokenize \n",
    "from inltk.inltk import tokenize\n",
    "\n",
    "\n",
    "words=tokenize(corpus, \"hi\")\n",
    "print(words)\n"
   ]
  },
  {
   "cell_type": "markdown",
   "metadata": {
    "id": "bPDAS5R7YX6n"
   },
   "source": [
    "above code doing word tokenisation"
   ]
  },
  {
   "cell_type": "code",
   "execution_count": null,
   "metadata": {
    "id": "Jfpe-_PKYazf"
   },
   "outputs": [
    {
     "ename": "",
     "evalue": "",
     "output_type": "error",
     "traceback": [
      "\u001b[1;31mRunning cells with 'Python 3.10.4 64-bit' requires ipykernel package.\n",
      "Run the following command to install 'ipykernel' into the Python environment. \n",
      "Command: '/bin/python3 -m pip install ipykernel -U --user --force-reinstall'"
     ]
    }
   ],
   "source": []
  },
  {
   "cell_type": "code",
   "execution_count": null,
   "metadata": {
    "colab": {
     "base_uri": "https://localhost:8080/",
     "height": 235
    },
    "id": "RLT8wJpugZwa",
    "outputId": "fce2889a-c5a4-4025-f93a-5a3428f27635"
   },
   "outputs": [
    {
     "ename": "",
     "evalue": "",
     "output_type": "error",
     "traceback": [
      "\u001b[1;31mRunning cells with 'Python 3.10.4 64-bit' requires ipykernel package.\n",
      "Run the following command to install 'ipykernel' into the Python environment. \n",
      "Command: '/bin/python3 -m pip install ipykernel -U --user --force-reinstall'"
     ]
    }
   ],
   "source": [
    "html_content = req.content\n",
    "soup = BeautifulSoup(html_content, 'html5lib')\n",
    "import re\n",
    "cleaned_corpus=\"\"\n",
    "for i in words:\n",
    "  \n",
    "  \n",
    "  \n",
    "    cleaned_corpus+=i\n",
    "\n",
    "cleaned_corpus = re.sub('▁', \" \" , cleaned_corpus)\n",
    "\n",
    "cleaned_corpus = re.sub('[A-Za-z]', \"\" , cleaned_corpus)\n",
    "cleaned_corpus = re.sub('[0-9]', \"\" , cleaned_corpus)\n",
    "\n",
    "disallowed_characters = \"._!,“।–()@#$%&*/|:”\"\n",
    "dis = \"-?\"\n",
    "for character in disallowed_characters:\n",
    "\tcleaned_corpus = cleaned_corpus.replace(character, \"\")\n",
    "  \n",
    "for character in dis:\n",
    "  cleaned_corpus = cleaned_corpus.replace(character, \" \")\n",
    "print(cleaned_corpus)"
   ]
  },
  {
   "cell_type": "markdown",
   "metadata": {
    "id": "8vpezRDgYfl8"
   },
   "source": [
    "above is the cleaning corpus(without punctuation,foriegn words ,numbers)\n",
    "\n"
   ]
  },
  {
   "cell_type": "code",
   "execution_count": null,
   "metadata": {
    "id": "8z8yG0Ane4LV"
   },
   "outputs": [
    {
     "ename": "",
     "evalue": "",
     "output_type": "error",
     "traceback": [
      "\u001b[1;31mRunning cells with 'Python 3.10.4 64-bit' requires ipykernel package.\n",
      "Run the following command to install 'ipykernel' into the Python environment. \n",
      "Command: '/bin/python3 -m pip install ipykernel -U --user --force-reinstall'"
     ]
    }
   ],
   "source": [
    "stop_words = ['▁','▁मैं','▁मेरे','▁मुझे','▁उसने','▁हमारे','▁हमें', '▁मुझको', '▁मेरा', '▁अपने आप को', '▁हमने', '▁हमारा', '▁हम', '▁आप', '▁आपका', '▁तुम्हारा', '▁अपने आप', '▁स्वयं', '▁वह', '▁इसे', '▁उसके', '▁खुद को', '▁कि वह', '▁खुद ही', '▁यह', '▁इसके', '▁उन्होने', '▁अपने', '▁क्या', '▁जो', '▁किसे', '▁किसको', '▁कि', '▁ये', '▁हूँ', '▁होता है', '▁रहे', '▁थी', '▁थे', '▁होना', '▁गया',  '▁किया', '▁है', '▁पडा', '▁होने', '▁करना', '▁किया', '▁एक', '▁लेकिन', '▁अगर', '▁या', '▁क्यूंकि', '▁जैसा', '▁जबकि', '▁की', '▁पर', '▁द्वारा', '▁साथ', '▁खिलाफ', '▁बीच', '▁में',  '▁दौरान', '▁ऊपर', '▁नीचे', '▁को', '▁से', '▁तक', '▁निकल', '▁बंद', '▁तहत', '▁दुबारा', '▁आगे', '▁फिर',  '▁यहाँ', '▁वहाँ', '▁कब', '▁कहाँ', '▁क्यों', '▁कैसे', '▁सारे', '▁किसी', '▁दोनो', '▁प्रत्येक', '▁ज्यादा', '▁अधिकांश', '▁अन्य', '▁ऐसा', '▁मात्र', '▁खुद', '▁समान', '▁इसलिए', '▁बहुत', '▁सकता', '▁जायेंगे', '▁जरा', '▁चाहिए', '▁अभी', '▁और', '▁रखें', '▁का', '▁हैं', '▁इस', '▁होता', '▁करने', '▁ने', '▁बनी', '▁तो', '▁ही', '▁हो', '▁था', '▁हुआ', '▁बाद', '▁लिए', '▁इसमें', '▁दो', '▁वे', '▁करते', '▁कहा', '▁वर्ग', '▁कई', '▁करें','▁उनके', '▁यदि', '▁हुई', '▁जा', '▁कहते', '▁जब', '▁होते', '▁कोई', '▁हुए', '▁व', '▁जैसे', '▁सभी', '▁करता', '▁तरह', '▁उस', '▁आदि', '▁इसी', '▁पे', '▁तथा', '▁भी', '▁परंतु', '▁इन', '▁कम', '▁दूर', '▁पूरे', '▁गये', '▁तुम', '▁मै', '▁यहां', '▁हुये', '▁कभी', '▁प्रति', '▁इन्हें', '▁अब', '▁जिसमें', '▁लिया', '▁बड़ा' '▁तब', '▁उसे', '▁जाते', '▁लेकर', '▁बड़े', '▁दूसरे', '▁जाने', '▁बाहर', '▁स्थान', '▁उन्हें ', '▁गए', '▁ऐसे', '▁जिससे', '▁समय', '▁दोनों', '▁किए','▁आज', '▁कल','▁इत्यादि','▁बिलकुल', '▁निहायत','▁दूसरा', '▁साबुत', '▁वग़ैरह', '▁कौनसा', '▁लिये', '▁दिया', '▁जिसे', '▁तिसे', '▁काफ़ी', '▁पहले', '▁बाला', '▁मानो', '▁अंदर', '▁भीतर', '▁पूरा', '▁सारा', '▁वहीं', '▁जहाँ', '▁जीधर', '▁एवं', '▁कुछ', '▁कुल', '▁जिस', '▁जिन', '▁तिस', '▁तिन', '▁कौन', '▁किस', '▁संग', '▁यही', '▁बही', '▁उसी', '▁मगर', '▁कर', '▁मे', '▁एस', '▁उन', '▁सो', '▁अत']\n",
    "new_words=[]\n",
    "for i in words:\n",
    "  if i in stop_words:\n",
    "    continue\n",
    "  new_words.append(i)\n",
    "\n",
    "for i in new_words:\n",
    "  if i[0]!=\"▁\":\n",
    "    new_words.remove(i)\n",
    "print(new_words)\n",
    "print(len(new_words))"
   ]
  },
  {
   "cell_type": "markdown",
   "metadata": {
    "id": "AfA5_DDkY6Mr"
   },
   "source": [
    "above are the words after removal of stop words "
   ]
  }
 ],
 "metadata": {
  "colab": {
   "provenance": []
  },
  "kernelspec": {
   "display_name": "neural_n",
   "language": "python",
   "name": "neural_n"
  },
  "language_info": {
   "codemirror_mode": {
    "name": "ipython",
    "version": 3
   },
   "file_extension": ".py",
   "mimetype": "text/x-python",
   "name": "python",
   "nbconvert_exporter": "python",
   "pygments_lexer": "ipython3",
   "version": "3.8.8"
  },
  "vscode": {
   "interpreter": {
    "hash": "916dbcbb3f70747c44a77c7bcd40155683ae19c65e1c03b4aa3499c5328201f1"
   }
  }
 },
 "nbformat": 4,
 "nbformat_minor": 1
}
