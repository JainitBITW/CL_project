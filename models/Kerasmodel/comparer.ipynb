{
 "cells": [
  {
   "cell_type": "code",
   "execution_count": 11,
   "metadata": {},
   "outputs": [],
   "source": [
    "#making the dictionaries of the data \n",
    "\n",
    "vectors_file= open('old_actual/vectors.tsv','r')\n",
    "\n",
    "vector_dict = {}\n",
    "with open('old_actual/metadata.tsv','r') as words_file:\n",
    "    for line in words_file:\n",
    "        vector= vectors_file.readline().split('\\t')\n",
    "        vector_dict.update({line.strip('\\n'):vector})\n",
    "        \n",
    "\n"
   ]
  },
  {
   "cell_type": "code",
   "execution_count": 12,
   "metadata": {},
   "outputs": [],
   "source": [
    "# creating different dict for weat \n",
    "import os\n",
    "path = '../../attribute_list_hindi'\n",
    "\n",
    "file_list_new = os.listdir(path)\n",
    "file_list=[]\n",
    "for i in range(len(file_list_new)):\n",
    "    file_list.append(path+'/'+file_list_new[i])\n",
    "weat_dict={}\n",
    "for j , files in enumerate(file_list):\n",
    "    f = open(files,'r')\n",
    "    old_data = f.read().split('\\n')\n",
    "    data=[]\n",
    "    for i in old_data:\n",
    "        if i != '':\n",
    "            data.append(i)\n",
    "    \n",
    "    weat_dict.update({file_list_new[j].replace(\".txt\",\"\"):data})\n",
    "    \n",
    "    \n",
    "    \n"
   ]
  },
  {
   "cell_type": "code",
   "execution_count": 14,
   "metadata": {},
   "outputs": [],
   "source": [
    "import math \n",
    "\n",
    "def eu_dist(v1, v2):\n",
    "    dist=0\n",
    "    for i in range(len(v1)):\n",
    "        dist+=((v1[i] -v2[i])**2)\n",
    "    dist= math.sqrt(dist)\n",
    "    return dist\n",
    "\n",
    "def add_list(l1, l2):\n",
    "    result=[]\n",
    "    if len(l1)==0:\n",
    "        return l2\n",
    "    for i in range(len(l2)):\n",
    "        result.append(float(l1[i])+float(l2[i]))\n",
    "    return result\n",
    "\n",
    "\n",
    "average_dict={}\n",
    "\n",
    "for key , values in weat_dict.items():\n",
    "    \n",
    "    i =0\n",
    "    average_vec=[]\n",
    "    \n",
    "    for value in values :\n",
    "        \n",
    "        try:      \n",
    "            average_vec=add_list(average_vec, vector_dict[value])\n",
    "            i+=1\n",
    "           \n",
    "        except :\n",
    "            pass\n",
    "    \n",
    "    for j in range(len(average_vec)):\n",
    "        average_vec[j]=average_vec[j]/i\n",
    "        # print(type(average_vec[j]))\n",
    "        \n",
    "    # print(i)\n",
    "    average_dict.update({key:average_vec })\n",
    "    \n",
    "    \n",
    "\n",
    "            \n",
    "        \n",
    "    \n",
    "        "
   ]
  },
  {
   "cell_type": "code",
   "execution_count": 15,
   "metadata": {},
   "outputs": [],
   "source": [
    "eu_dist_dict={}\n",
    "co_dist_dict={}\n",
    "\n",
    "male_vect= average_dict['male_terms_hindi']\n",
    "female_vect= average_dict['female_terms_hindi']\n",
    "\n",
    "for key in average_dict.keys():\n",
    "    if key ==\"male_terms_hindi\" or key =='female_terms_hindi':\n",
    "        continue\n",
    "    male_dist= eu_dist(male_vect , average_dict[key])\n",
    "    female_dist= eu_dist(female_vect , average_dict[key])\n",
    "    \n",
    "    bias_ratio=male_dist/female_dist\n",
    "    eu_dist_dict.update({key:bias_ratio})\n",
    "    \n",
    "    \n",
    "from scipy import spatial\n",
    "for key in average_dict.keys():\n",
    "    if key ==\"male_terms_hindi\" or key =='female_terms_hindi':\n",
    "        continue\n",
    "    male_dist = 1 - spatial.distance.cosine(male_vect,average_dict[key])\n",
    "    female_dist= 1 - spatial.distance.cosine(female_vect,average_dict[key])\n",
    "    bias_ratio=male_dist/female_dist\n",
    "    co_dist_dict.update({key:bias_ratio})"
   ]
  },
  {
   "cell_type": "code",
   "execution_count": null,
   "metadata": {},
   "outputs": [],
   "source": [
    "eu_dist_dict"
   ]
  }
 ],
 "metadata": {
  "kernelspec": {
   "display_name": "Python 3.10.6 64-bit",
   "language": "python",
   "name": "python3"
  },
  "language_info": {
   "codemirror_mode": {
    "name": "ipython",
    "version": 3
   },
   "file_extension": ".py",
   "mimetype": "text/x-python",
   "name": "python",
   "nbconvert_exporter": "python",
   "pygments_lexer": "ipython3",
   "version": "3.10.6"
  },
  "orig_nbformat": 4,
  "vscode": {
   "interpreter": {
    "hash": "916dbcbb3f70747c44a77c7bcd40155683ae19c65e1c03b4aa3499c5328201f1"
   }
  }
 },
 "nbformat": 4,
 "nbformat_minor": 2
}
