{
 "cells": [
  {
   "cell_type": "markdown",
   "metadata": {},
   "source": [
    "# making data dictionaries"
   ]
  },
  {
   "cell_type": "code",
   "execution_count": 11,
   "metadata": {},
   "outputs": [],
   "source": [
    "#making the dictionaries of the data \n",
    "\n",
    "vectors_file= open('abp_trained/vectors.tsv','r') \n",
    "# vectors of all words in metadata these are the already calculated vectors using this repository code\n",
    "\n",
    "vector_dict = {}\n",
    "with open('abp_trained/metadata.tsv','r') as words_file:\n",
    "    for line in words_file:\n",
    "        vector= vectors_file.readline().split('\\t')\n",
    "        vector_dict.update({line.strip('\\n'):vector})"
   ]
  },
  {
   "cell_type": "markdown",
   "metadata": {},
   "source": [
    "# making dictionaries for attributes "
   ]
  },
  {
   "cell_type": "code",
   "execution_count": 12,
   "metadata": {},
   "outputs": [],
   "source": [
    "# creating different dict for weat \n",
    "import os\n",
    "\n",
    "path = '../../attribute_list_hindi' #path to file containing the list of attributes\n",
    "\n",
    "file_list_new = os.listdir(path)\n",
    "file_list=[]\n",
    "for i in range(len(file_list_new)):\n",
    "    file_list.append(path+'/'+file_list_new[i])\n",
    "weat_dict={}\n",
    "for j , files in enumerate(file_list):\n",
    "    f = open(files,'r')\n",
    "    old_data = f.read().split('\\n')\n",
    "    data=[]\n",
    "    for i in old_data:\n",
    "        if i != '':\n",
    "            data.append(i)\n",
    "    \n",
    "    weat_dict.update({file_list_new[j].replace(\".txt\",\"\"):data})\n",
    "    \n",
    "    \n",
    "    \n"
   ]
  },
  {
   "cell_type": "markdown",
   "metadata": {},
   "source": [
    "# Calculating the distances \n",
    "## between attributes of different domain with male and female vectors"
   ]
  },
  {
   "cell_type": "code",
   "execution_count": 14,
   "metadata": {},
   "outputs": [],
   "source": [
    "import math \n",
    "\n",
    "def eu_dist(v1, v2):\n",
    "    '''\n",
    "    Calculates distances betweeen 2 vectors. \n",
    "    dimensions must be same.\n",
    "    Arguments : v1(list)  , v2(list)\n",
    "    Returns  : (list)result\n",
    "    '''\n",
    "    dist=0\n",
    "    for i in range(len(v1)):\n",
    "        dist+=((v1[i] -v2[i])**2)\n",
    "    dist= math.sqrt(dist)\n",
    "    return dist\n",
    "\n",
    "def add_list(l1, l2):\n",
    "    '''\n",
    "    adds two list such that result[i]= l1[i]+l2[i]\n",
    "    Arguments : l1(list)  , l2(list)\n",
    "    Returns  : (list)result\n",
    "    \n",
    "    '''\n",
    "    result=[]\n",
    "    if len(l1)==0:\n",
    "        return l2\n",
    "    for i in range(len(l2)):\n",
    "        result.append(float(l1[i])+float(l2[i]))\n",
    "    return result\n",
    "\n",
    "\n",
    "average_dict={} # dictionary containing averages of all attributes\n",
    "\n",
    "for key , values in weat_dict.items():\n",
    "    i =0\n",
    "    average_vec=[]\n",
    "    \n",
    "    for value in values :\n",
    "        \n",
    "        try:      \n",
    "            average_vec=add_list(average_vec, vector_dict[value])\n",
    "            i+=1\n",
    "           \n",
    "        except :\n",
    "            pass\n",
    "    \n",
    "    for j in range(len(average_vec)):\n",
    "        average_vec[j]=average_vec[j]/i\n",
    "        # print(type(average_vec[j]))\n",
    "        \n",
    "    average_dict.update({key:average_vec })\n",
    "    \n",
    "    \n",
    "\n",
    "            \n",
    "        \n",
    "    \n",
    "        "
   ]
  },
  {
   "cell_type": "markdown",
   "metadata": {},
   "source": [
    "# Calculating Male/Female Distance ratio "
   ]
  },
  {
   "cell_type": "code",
   "execution_count": 15,
   "metadata": {},
   "outputs": [],
   "source": [
    "eu_dist_dict={}\n",
    "co_dist_dict={}\n",
    "\n",
    "male_vect= average_dict['male_terms_hindi']\n",
    "female_vect= average_dict['female_terms_hindi']\n",
    "\n",
    "for key in average_dict.keys():\n",
    "    if key ==\"male_terms_hindi\" or key =='female_terms_hindi':\n",
    "        continue\n",
    "    male_dist= eu_dist(male_vect , average_dict[key])\n",
    "    female_dist= eu_dist(female_vect , average_dict[key])\n",
    "    \n",
    "    bias_ratio=male_dist/female_dist\n",
    "    eu_dist_dict.update({key:bias_ratio})\n",
    "    \n",
    "    \n",
    "from scipy import spatial\n",
    "for key in average_dict.keys():\n",
    "    if key ==\"male_terms_hindi\" or key =='female_terms_hindi':\n",
    "        continue\n",
    "    male_dist = 1 - spatial.distance.cosine(male_vect,average_dict[key])\n",
    "    female_dist= 1 - spatial.distance.cosine(female_vect,average_dict[key])\n",
    "    bias_ratio=male_dist/female_dist\n",
    "    co_dist_dict.update({key:bias_ratio})"
   ]
  },
  {
   "cell_type": "code",
   "execution_count": 1,
   "metadata": {},
   "outputs": [
    {
     "ename": "NameError",
     "evalue": "name 'eu_dist_dict' is not defined",
     "output_type": "error",
     "traceback": [
      "\u001b[0;31m---------------------------------------------------------------------------\u001b[0m",
      "\u001b[0;31mNameError\u001b[0m                                 Traceback (most recent call last)",
      "\u001b[0;32m/tmp/ipykernel_43619/3845291748.py\u001b[0m in \u001b[0;36m<module>\u001b[0;34m\u001b[0m\n\u001b[0;32m----> 1\u001b[0;31m \u001b[0meu_dist_dict\u001b[0m\u001b[0;34m\u001b[0m\u001b[0;34m\u001b[0m\u001b[0m\n\u001b[0m",
      "\u001b[0;31mNameError\u001b[0m: name 'eu_dist_dict' is not defined"
     ]
    }
   ],
   "source": [
    "eu_dist_dict"
   ]
  }
 ],
 "metadata": {
  "kernelspec": {
   "display_name": "Python 3.10.6 64-bit",
   "language": "python",
   "name": "python3"
  },
  "language_info": {
   "codemirror_mode": {
    "name": "ipython",
    "version": 3
   },
   "file_extension": ".py",
   "mimetype": "text/x-python",
   "name": "python",
   "nbconvert_exporter": "python",
   "pygments_lexer": "ipython3",
   "version": "3.10.6"
  },
  "orig_nbformat": 4,
  "vscode": {
   "interpreter": {
    "hash": "916dbcbb3f70747c44a77c7bcd40155683ae19c65e1c03b4aa3499c5328201f1"
   }
  }
 },
 "nbformat": 4,
 "nbformat_minor": 2
}
