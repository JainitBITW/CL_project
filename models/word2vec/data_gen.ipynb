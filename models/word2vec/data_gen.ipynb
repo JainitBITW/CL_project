{
 "cells": [
  {
   "cell_type": "code",
   "execution_count": 1,
   "metadata": {},
   "outputs": [],
   "source": [
    "import requests\n",
    "from bs4 import BeautifulSoup\n",
    "import html5lib "
   ]
  },
  {
   "cell_type": "code",
   "execution_count": 2,
   "metadata": {},
   "outputs": [],
   "source": [
    "page = requests.get('https://www.abplive.com/') # Getting page HTML through request\n",
    "soup = BeautifulSoup(page.content, 'html5lib') "
   ]
  },
  {
   "cell_type": "code",
   "execution_count": 6,
   "metadata": {},
   "outputs": [],
   "source": [
    "all_links = set()\n",
    "links1=set()\n",
    "links2=set()\n",
    "for link in soup.findAll('a'):\n",
    "  if link.get(\"href\") and link.get('href').startswith('https://www.abplive.com/') :\n",
    "    links1.add(link.get('href'))\n",
    "    all_links.add(link.get('href'))\n",
    "\n",
    "for urls in links1:\n",
    "  page = requests.get(urls) # Getting page HTML through request\n",
    "  soup = BeautifulSoup(page.content, features=\"xml\") \n",
    "  for link in soup.findAll('a'):\n",
    "    link_url= link.get('href')\n",
    "    if link_url :\n",
    "      if  link_url.startswith('https://www.abplive.com/') and link_url not in all_links :\n",
    "        links2.add(link.get('href'))\n",
    "        all_links.add(link.get('href'))\n",
    "links1=set()\n",
    "for urls in list(links2): \n",
    "    flg=1\n",
    "    page = requests.get(urls) # Getting page HTML through request\n",
    "    soup = BeautifulSoup(page.content, features=\"xml\") \n",
    "    for link in soup.findAll('a'):\n",
    "     link_url= link.get('href')\n",
    "     if link_url :\n",
    "      if link_url.startswith('https://www.abplive.com/') :\n",
    "        all_links.add(link_url)\n",
    "      if len(all_links)>10000:\n",
    "        flg=0\n",
    "        break\n",
    "    if flg==0 :\n",
    "      break;\n"
   ]
  },
  {
   "cell_type": "code",
   "execution_count": 2,
   "metadata": {},
   "outputs": [],
   "source": [
    "all_links=[]\n",
    "with open('output','r') as f:\n",
    "    for line in f:\n",
    "        all_links.append(line.replace('\\n',''))"
   ]
  },
  {
   "cell_type": "code",
   "execution_count": 3,
   "metadata": {},
   "outputs": [
    {
     "name": "stdout",
     "output_type": "stream",
     "text": [
      "Done!\n"
     ]
    },
    {
     "name": "stderr",
     "output_type": "stream",
     "text": [
      "[nltk_data] Downloading package punkt to /home/turning/nltk_data...\n",
      "[nltk_data]   Package punkt is already up-to-date!\n",
      "[nltk_data] Downloading package indian to /home/turning/nltk_data...\n",
      "[nltk_data]   Package indian is already up-to-date!\n"
     ]
    },
    {
     "data": {
      "text/plain": [
       "True"
      ]
     },
     "execution_count": 3,
     "metadata": {},
     "output_type": "execute_result"
    }
   ],
   "source": [
    "\n",
    "import inltk\n",
    "from inltk.inltk import tokenize\n",
    "import nltk\n",
    "nltk.download('punkt')\n",
    "from inltk.inltk import get_similar_sentences\n",
    "from nltk.tag import tnt\n",
    "from nltk.corpus import indian\n",
    "import nltk\n",
    "nltk.download('indian')\n",
    "\n"
   ]
  },
  {
   "cell_type": "code",
   "execution_count": null,
   "metadata": {},
   "outputs": [],
   "source": [
    "from inltk.inltk import setup\n",
    "setup('hi')"
   ]
  },
  {
   "cell_type": "code",
   "execution_count": 4,
   "metadata": {},
   "outputs": [],
   "source": [
    "all_links=[]\n",
    "with open('output','r')as f:\n",
    "    for line in f:\n",
    "        all_links.append(line.replace(\"\\n\",\"\"))"
   ]
  },
  {
   "cell_type": "code",
   "execution_count": 9,
   "metadata": {},
   "outputs": [],
   "source": [
    "news_corpus = \"\"\n",
    "string= \"/home/turning/Desktop/CL_project/CL_PROJECT_CODE/Kerasmodel/aclImdb/train/pos/in\"\n",
    "\n",
    "for i, url in enumerate(all_links):\n",
    "  \n",
    "  try:\n",
    "    req = requests.get(url)\n",
    "    html_content = req.content\n",
    "    soup = BeautifulSoup(html_content, 'html5lib')\n",
    "    news_corpus_set = soup.find_all('p')\n",
    "    news_corpus=\"\"\n",
    "    for element in news_corpus_set:\n",
    "      news_corpus += element.text\n",
    "    \n",
    "    path_file=string+str(i%100)+'.txt'\n",
    "    \n",
    "    f = open(path_file,'a')\n",
    "    \n",
    "    f.write(str(news_corpus))\n",
    "    f.close()\n",
    "  except:\n",
    "    pass"
   ]
  },
  {
   "cell_type": "code",
   "execution_count": null,
   "metadata": {},
   "outputs": [],
   "source": [
    "links2=set()\n",
    "\n",
    "for urls in all_links:\n",
    "    if 'topic' in urls:\n",
    "        page = requests.get(urls) # Getting page HTML through request\n",
    "        soup = BeautifulSoup(page.content, features=\"xml\") \n",
    "        for link in soup.findAll('a'):\n",
    "            link_url= link.get('href')\n",
    "            if link_url :\n",
    "                if  link_url.startswith('https://www.abplive.com/') and link_url not in all_links :\n",
    "                    links2.add(link.get('href'))\n",
    "                    # all_links.add(link.get('href'))\n",
    "            "
   ]
  }
 ],
 "metadata": {
  "kernelspec": {
   "display_name": "Python 3.10.6 ('neural_n')",
   "language": "python",
   "name": "python3"
  },
  "language_info": {
   "codemirror_mode": {
    "name": "ipython",
    "version": 3
   },
   "file_extension": ".py",
   "mimetype": "text/x-python",
   "name": "python",
   "nbconvert_exporter": "python",
   "pygments_lexer": "ipython3",
   "version": "3.10.6"
  },
  "orig_nbformat": 4,
  "vscode": {
   "interpreter": {
    "hash": "8a0e8d9c06cab710e9ae9691e7d0417c31968365137cec4f6d7aac84a7634fa2"
   }
  }
 },
 "nbformat": 4,
 "nbformat_minor": 2
}
